{
 "cells": [
  {
   "cell_type": "markdown",
   "id": "99b206c8",
   "metadata": {},
   "source": [
    "# Week 2 Coding Discussion by Pan Lu, 2023.01.19\n",
    "\n",
    "Content\n",
    "- Background of Python\n",
    "- Background of the linear regression example"
   ]
  },
  {
   "cell_type": "markdown",
   "id": "4197baab",
   "metadata": {},
   "source": [
    "# 1. Background of Python"
   ]
  },
  {
   "cell_type": "markdown",
   "id": "ecb97aa5",
   "metadata": {},
   "source": [
    "## 1.1 Quick review of NumPy\n",
    "\n",
    "**Useful tutorials**: \n",
    "- https://numpy.org/doc/stable/user/absolute_beginners.html\n",
    "- https://www.w3schools.com/python/numpy/numpy_intro.asp"
   ]
  },
  {
   "cell_type": "markdown",
   "id": "8e67ca9d",
   "metadata": {},
   "source": [
    "### (1) How to import NumPy"
   ]
  },
  {
   "cell_type": "code",
   "execution_count": 1,
   "id": "ccbe27f2",
   "metadata": {},
   "outputs": [
    {
     "ename": "ImportError",
     "evalue": "\n\nIMPORTANT: PLEASE READ THIS FOR ADVICE ON HOW TO SOLVE THIS ISSUE!\n\nImporting the numpy C-extensions failed. This error can happen for\nmany reasons, often due to issues with your setup or how NumPy was\ninstalled.\n\nWe have compiled some common reasons and troubleshooting tips at:\n\n    https://numpy.org/devdocs/user/troubleshooting-importerror.html\n\nPlease note and check the following:\n\n  * The Python version is: Python3.9 from \"/Users/charles_zhang/opt/anaconda3/envs/m148/bin/python\"\n  * The NumPy version is: \"1.21.5\"\n\nand make sure that they are the versions you expect.\nPlease carefully study the documentation linked above for further help.\n\nOriginal error was: dlopen(/Users/charles_zhang/opt/anaconda3/envs/m148/lib/python3.9/site-packages/numpy/core/_multiarray_umath.cpython-39-darwin.so, 0x0002): Library not loaded: @rpath/libopenblas.dylib\n  Referenced from: <64F87B7A-BCFD-33E1-9357-15829E8F6538> /Users/charles_zhang/opt/anaconda3/envs/m148/lib/python3.9/site-packages/numpy/core/_multiarray_umath.cpython-39-darwin.so\n  Reason: tried: '/Users/charles_zhang/opt/anaconda3/envs/m148/lib/libopenblas.dylib' (no such file), '/System/Volumes/Preboot/Cryptexes/OS/Users/charles_zhang/opt/anaconda3/envs/m148/lib/libopenblas.dylib' (no such file), '/Users/charles_zhang/opt/anaconda3/envs/m148/lib/libopenblas.dylib' (no such file), '/System/Volumes/Preboot/Cryptexes/OS/Users/charles_zhang/opt/anaconda3/envs/m148/lib/libopenblas.dylib' (no such file), '/Users/charles_zhang/opt/anaconda3/envs/m148/lib/python3.9/site-packages/numpy/core/../../../../libopenblas.dylib' (no such file), '/Users/charles_zhang/opt/anaconda3/envs/m148/lib/libopenblas.dylib' (no such file), '/System/Volumes/Preboot/Cryptexes/OS/Users/charles_zhang/opt/anaconda3/envs/m148/lib/libopenblas.dylib' (no such file), '/Users/charles_zhang/opt/anaconda3/envs/m148/lib/libopenblas.dylib' (no such file), '/System/Volumes/Preboot/Cryptexes/OS/Users/charles_zhang/opt/anaconda3/envs/m148/lib/libopenblas.dylib' (no such file), '/Users/charles_zhang/opt/anaconda3/envs/m148/lib/python3.9/site-packages/numpy/core/../../../../libopenblas.dylib' (no such file), '/Users/charles_zhang/opt/anaconda3/envs/m148/bin/../lib/libopenblas.dylib' (no such file), '/Users/charles_zhang/opt/anaconda3/envs/m148/bin/../lib/libopenblas.dylib' (no such file), '/System/Volumes/Preboot/Cryptexes/OS@rpath/libopenblas.dylib' (no such file), '/Users/charles_zhang/opt/anaconda3/envs/m148/lib/libopenblas.dylib' (no such file), '/System/Volumes/Preboot/Cryptexes/OS/Users/charles_zhang/opt/anaconda3/envs/m148/lib/libopenblas.dylib' (no such file), '/Users/charles_zhang/opt/anaconda3/envs/m148/lib/libopenblas.dylib' (no such file), '/System/Volumes/Preboot/Cryptexes/OS/Users/charles_zhang/opt/anaconda3/envs/m148/lib/libopenblas.dylib' (no such file), '/Users/charles_zhang/opt/anaconda3/envs/m148/lib/python3.9/site-packages/numpy/core/../../../../libopenblas.dylib' (no such file), '/Users/charles_zhang/opt/anaconda3/envs/m148/lib/libopenblas.dylib' (no such file), '/System/Volumes/Preboot/Cryptexes/OS/Users/charles_zhang/opt/anaconda3/envs/m148/lib/libopenblas.dylib' (no such file), '/Users/charles_zhang/opt/anaconda3/envs/m148/lib/libopenblas.dylib' (no such file), '/System/Volumes/Preboot/Cryptexes/OS/Users/charles_zhang/opt/anaconda3/envs/m148/lib/libopenblas.dylib' (no such file), '/Users/charles_zhang/opt/anaconda3/envs/m148/lib/python3.9/site-packages/numpy/core/../../../../libopenblas.dylib' (no such file), '/Users/charles_zhang/opt/anaconda3/envs/m148/bin/../lib/libopenblas.dylib' (no such file), '/Users/charles_zhang/opt/anaconda3/envs/m148/bin/../lib/libopenblas.dylib' (no such file), '/usr/local/lib/libopenblas.dylib' (no such file), '/usr/lib/libopenblas.dylib' (no such file, not in dyld cache)\n",
     "output_type": "error",
     "traceback": [
      "\u001b[0;31m---------------------------------------------------------------------------\u001b[0m",
      "\u001b[0;31mImportError\u001b[0m                               Traceback (most recent call last)",
      "File \u001b[0;32m~/opt/anaconda3/envs/m148/lib/python3.9/site-packages/numpy/core/__init__.py:22\u001b[0m\n\u001b[1;32m     21\u001b[0m \u001b[38;5;28;01mtry\u001b[39;00m:\n\u001b[0;32m---> 22\u001b[0m     \u001b[38;5;28;01mfrom\u001b[39;00m \u001b[38;5;21;01m.\u001b[39;00m \u001b[38;5;28;01mimport\u001b[39;00m multiarray\n\u001b[1;32m     23\u001b[0m \u001b[38;5;28;01mexcept\u001b[39;00m \u001b[38;5;167;01mImportError\u001b[39;00m \u001b[38;5;28;01mas\u001b[39;00m exc:\n",
      "File \u001b[0;32m~/opt/anaconda3/envs/m148/lib/python3.9/site-packages/numpy/core/multiarray.py:12\u001b[0m\n\u001b[1;32m     10\u001b[0m \u001b[38;5;28;01mimport\u001b[39;00m \u001b[38;5;21;01mwarnings\u001b[39;00m\n\u001b[0;32m---> 12\u001b[0m \u001b[38;5;28;01mfrom\u001b[39;00m \u001b[38;5;21;01m.\u001b[39;00m \u001b[38;5;28;01mimport\u001b[39;00m overrides\n\u001b[1;32m     13\u001b[0m \u001b[38;5;28;01mfrom\u001b[39;00m \u001b[38;5;21;01m.\u001b[39;00m \u001b[38;5;28;01mimport\u001b[39;00m _multiarray_umath\n",
      "File \u001b[0;32m~/opt/anaconda3/envs/m148/lib/python3.9/site-packages/numpy/core/overrides.py:7\u001b[0m\n\u001b[1;32m      5\u001b[0m \u001b[38;5;28;01mimport\u001b[39;00m \u001b[38;5;21;01mtextwrap\u001b[39;00m\n\u001b[0;32m----> 7\u001b[0m \u001b[38;5;28;01mfrom\u001b[39;00m \u001b[38;5;21;01mnumpy\u001b[39;00m\u001b[38;5;21;01m.\u001b[39;00m\u001b[38;5;21;01mcore\u001b[39;00m\u001b[38;5;21;01m.\u001b[39;00m\u001b[38;5;21;01m_multiarray_umath\u001b[39;00m \u001b[38;5;28;01mimport\u001b[39;00m (\n\u001b[1;32m      8\u001b[0m     add_docstring, implement_array_function, _get_implementing_args)\n\u001b[1;32m      9\u001b[0m \u001b[38;5;28;01mfrom\u001b[39;00m \u001b[38;5;21;01mnumpy\u001b[39;00m\u001b[38;5;21;01m.\u001b[39;00m\u001b[38;5;21;01mcompat\u001b[39;00m\u001b[38;5;21;01m.\u001b[39;00m\u001b[38;5;21;01m_inspect\u001b[39;00m \u001b[38;5;28;01mimport\u001b[39;00m getargspec\n",
      "\u001b[0;31mImportError\u001b[0m: dlopen(/Users/charles_zhang/opt/anaconda3/envs/m148/lib/python3.9/site-packages/numpy/core/_multiarray_umath.cpython-39-darwin.so, 0x0002): Library not loaded: @rpath/libopenblas.dylib\n  Referenced from: <64F87B7A-BCFD-33E1-9357-15829E8F6538> /Users/charles_zhang/opt/anaconda3/envs/m148/lib/python3.9/site-packages/numpy/core/_multiarray_umath.cpython-39-darwin.so\n  Reason: tried: '/Users/charles_zhang/opt/anaconda3/envs/m148/lib/libopenblas.dylib' (no such file), '/System/Volumes/Preboot/Cryptexes/OS/Users/charles_zhang/opt/anaconda3/envs/m148/lib/libopenblas.dylib' (no such file), '/Users/charles_zhang/opt/anaconda3/envs/m148/lib/libopenblas.dylib' (no such file), '/System/Volumes/Preboot/Cryptexes/OS/Users/charles_zhang/opt/anaconda3/envs/m148/lib/libopenblas.dylib' (no such file), '/Users/charles_zhang/opt/anaconda3/envs/m148/lib/python3.9/site-packages/numpy/core/../../../../libopenblas.dylib' (no such file), '/Users/charles_zhang/opt/anaconda3/envs/m148/lib/libopenblas.dylib' (no such file), '/System/Volumes/Preboot/Cryptexes/OS/Users/charles_zhang/opt/anaconda3/envs/m148/lib/libopenblas.dylib' (no such file), '/Users/charles_zhang/opt/anaconda3/envs/m148/lib/libopenblas.dylib' (no such file), '/System/Volumes/Preboot/Cryptexes/OS/Users/charles_zhang/opt/anaconda3/envs/m148/lib/libopenblas.dylib' (no such file), '/Users/charles_zhang/opt/anaconda3/envs/m148/lib/python3.9/site-packages/numpy/core/../../../../libopenblas.dylib' (no such file), '/Users/charles_zhang/opt/anaconda3/envs/m148/bin/../lib/libopenblas.dylib' (no such file), '/Users/charles_zhang/opt/anaconda3/envs/m148/bin/../lib/libopenblas.dylib' (no such file), '/System/Volumes/Preboot/Cryptexes/OS@rpath/libopenblas.dylib' (no such file), '/Users/charles_zhang/opt/anaconda3/envs/m148/lib/libopenblas.dylib' (no such file), '/System/Volumes/Preboot/Cryptexes/OS/Users/charles_zhang/opt/anaconda3/envs/m148/lib/libopenblas.dylib' (no such file), '/Users/charles_zhang/opt/anaconda3/envs/m148/lib/libopenblas.dylib' (no such file), '/System/Volumes/Preboot/Cryptexes/OS/Users/charles_zhang/opt/anaconda3/envs/m148/lib/libopenblas.dylib' (no such file), '/Users/charles_zhang/opt/anaconda3/envs/m148/lib/python3.9/site-packages/numpy/core/../../../../libopenblas.dylib' (no such file), '/Users/charles_zhang/opt/anaconda3/envs/m148/lib/libopenblas.dylib' (no such file), '/System/Volumes/Preboot/Cryptexes/OS/Users/charles_zhang/opt/anaconda3/envs/m148/lib/libopenblas.dylib' (no such file), '/Users/charles_zhang/opt/anaconda3/envs/m148/lib/libopenblas.dylib' (no such file), '/System/Volumes/Preboot/Cryptexes/OS/Users/charles_zhang/opt/anaconda3/envs/m148/lib/libopenblas.dylib' (no such file), '/Users/charles_zhang/opt/anaconda3/envs/m148/lib/python3.9/site-packages/numpy/core/../../../../libopenblas.dylib' (no such file), '/Users/charles_zhang/opt/anaconda3/envs/m148/bin/../lib/libopenblas.dylib' (no such file), '/Users/charles_zhang/opt/anaconda3/envs/m148/bin/../lib/libopenblas.dylib' (no such file), '/usr/local/lib/libopenblas.dylib' (no such file), '/usr/lib/libopenblas.dylib' (no such file, not in dyld cache)",
      "\nDuring handling of the above exception, another exception occurred:\n",
      "\u001b[0;31mImportError\u001b[0m                               Traceback (most recent call last)",
      "Cell \u001b[0;32mIn[1], line 1\u001b[0m\n\u001b[0;32m----> 1\u001b[0m \u001b[38;5;28;01mimport\u001b[39;00m \u001b[38;5;21;01mnumpy\u001b[39;00m \u001b[38;5;28;01mas\u001b[39;00m \u001b[38;5;21;01mnp\u001b[39;00m\n",
      "File \u001b[0;32m~/opt/anaconda3/envs/m148/lib/python3.9/site-packages/numpy/__init__.py:150\u001b[0m\n\u001b[1;32m    147\u001b[0m \u001b[38;5;66;03m# Allow distributors to run custom init code\u001b[39;00m\n\u001b[1;32m    148\u001b[0m \u001b[38;5;28;01mfrom\u001b[39;00m \u001b[38;5;21;01m.\u001b[39;00m \u001b[38;5;28;01mimport\u001b[39;00m _distributor_init\n\u001b[0;32m--> 150\u001b[0m \u001b[38;5;28;01mfrom\u001b[39;00m \u001b[38;5;21;01m.\u001b[39;00m \u001b[38;5;28;01mimport\u001b[39;00m core\n\u001b[1;32m    151\u001b[0m \u001b[38;5;28;01mfrom\u001b[39;00m \u001b[38;5;21;01m.\u001b[39;00m\u001b[38;5;21;01mcore\u001b[39;00m \u001b[38;5;28;01mimport\u001b[39;00m \u001b[38;5;241m*\u001b[39m\n\u001b[1;32m    152\u001b[0m \u001b[38;5;28;01mfrom\u001b[39;00m \u001b[38;5;21;01m.\u001b[39;00m \u001b[38;5;28;01mimport\u001b[39;00m compat\n",
      "File \u001b[0;32m~/opt/anaconda3/envs/m148/lib/python3.9/site-packages/numpy/core/__init__.py:48\u001b[0m\n\u001b[1;32m     24\u001b[0m     \u001b[38;5;28;01mimport\u001b[39;00m \u001b[38;5;21;01msys\u001b[39;00m\n\u001b[1;32m     25\u001b[0m     msg \u001b[38;5;241m=\u001b[39m \u001b[38;5;124m\"\"\"\u001b[39m\n\u001b[1;32m     26\u001b[0m \n\u001b[1;32m     27\u001b[0m \u001b[38;5;124mIMPORTANT: PLEASE READ THIS FOR ADVICE ON HOW TO SOLVE THIS ISSUE!\u001b[39m\n\u001b[0;32m   (...)\u001b[0m\n\u001b[1;32m     46\u001b[0m \u001b[38;5;124m\"\"\"\u001b[39m \u001b[38;5;241m%\u001b[39m (sys\u001b[38;5;241m.\u001b[39mversion_info[\u001b[38;5;241m0\u001b[39m], sys\u001b[38;5;241m.\u001b[39mversion_info[\u001b[38;5;241m1\u001b[39m], sys\u001b[38;5;241m.\u001b[39mexecutable,\n\u001b[1;32m     47\u001b[0m         __version__, exc)\n\u001b[0;32m---> 48\u001b[0m     \u001b[38;5;28;01mraise\u001b[39;00m \u001b[38;5;167;01mImportError\u001b[39;00m(msg)\n\u001b[1;32m     49\u001b[0m \u001b[38;5;28;01mfinally\u001b[39;00m:\n\u001b[1;32m     50\u001b[0m     \u001b[38;5;28;01mfor\u001b[39;00m envkey \u001b[38;5;129;01min\u001b[39;00m env_added:\n",
      "\u001b[0;31mImportError\u001b[0m: \n\nIMPORTANT: PLEASE READ THIS FOR ADVICE ON HOW TO SOLVE THIS ISSUE!\n\nImporting the numpy C-extensions failed. This error can happen for\nmany reasons, often due to issues with your setup or how NumPy was\ninstalled.\n\nWe have compiled some common reasons and troubleshooting tips at:\n\n    https://numpy.org/devdocs/user/troubleshooting-importerror.html\n\nPlease note and check the following:\n\n  * The Python version is: Python3.9 from \"/Users/charles_zhang/opt/anaconda3/envs/m148/bin/python\"\n  * The NumPy version is: \"1.21.5\"\n\nand make sure that they are the versions you expect.\nPlease carefully study the documentation linked above for further help.\n\nOriginal error was: dlopen(/Users/charles_zhang/opt/anaconda3/envs/m148/lib/python3.9/site-packages/numpy/core/_multiarray_umath.cpython-39-darwin.so, 0x0002): Library not loaded: @rpath/libopenblas.dylib\n  Referenced from: <64F87B7A-BCFD-33E1-9357-15829E8F6538> /Users/charles_zhang/opt/anaconda3/envs/m148/lib/python3.9/site-packages/numpy/core/_multiarray_umath.cpython-39-darwin.so\n  Reason: tried: '/Users/charles_zhang/opt/anaconda3/envs/m148/lib/libopenblas.dylib' (no such file), '/System/Volumes/Preboot/Cryptexes/OS/Users/charles_zhang/opt/anaconda3/envs/m148/lib/libopenblas.dylib' (no such file), '/Users/charles_zhang/opt/anaconda3/envs/m148/lib/libopenblas.dylib' (no such file), '/System/Volumes/Preboot/Cryptexes/OS/Users/charles_zhang/opt/anaconda3/envs/m148/lib/libopenblas.dylib' (no such file), '/Users/charles_zhang/opt/anaconda3/envs/m148/lib/python3.9/site-packages/numpy/core/../../../../libopenblas.dylib' (no such file), '/Users/charles_zhang/opt/anaconda3/envs/m148/lib/libopenblas.dylib' (no such file), '/System/Volumes/Preboot/Cryptexes/OS/Users/charles_zhang/opt/anaconda3/envs/m148/lib/libopenblas.dylib' (no such file), '/Users/charles_zhang/opt/anaconda3/envs/m148/lib/libopenblas.dylib' (no such file), '/System/Volumes/Preboot/Cryptexes/OS/Users/charles_zhang/opt/anaconda3/envs/m148/lib/libopenblas.dylib' (no such file), '/Users/charles_zhang/opt/anaconda3/envs/m148/lib/python3.9/site-packages/numpy/core/../../../../libopenblas.dylib' (no such file), '/Users/charles_zhang/opt/anaconda3/envs/m148/bin/../lib/libopenblas.dylib' (no such file), '/Users/charles_zhang/opt/anaconda3/envs/m148/bin/../lib/libopenblas.dylib' (no such file), '/System/Volumes/Preboot/Cryptexes/OS@rpath/libopenblas.dylib' (no such file), '/Users/charles_zhang/opt/anaconda3/envs/m148/lib/libopenblas.dylib' (no such file), '/System/Volumes/Preboot/Cryptexes/OS/Users/charles_zhang/opt/anaconda3/envs/m148/lib/libopenblas.dylib' (no such file), '/Users/charles_zhang/opt/anaconda3/envs/m148/lib/libopenblas.dylib' (no such file), '/System/Volumes/Preboot/Cryptexes/OS/Users/charles_zhang/opt/anaconda3/envs/m148/lib/libopenblas.dylib' (no such file), '/Users/charles_zhang/opt/anaconda3/envs/m148/lib/python3.9/site-packages/numpy/core/../../../../libopenblas.dylib' (no such file), '/Users/charles_zhang/opt/anaconda3/envs/m148/lib/libopenblas.dylib' (no such file), '/System/Volumes/Preboot/Cryptexes/OS/Users/charles_zhang/opt/anaconda3/envs/m148/lib/libopenblas.dylib' (no such file), '/Users/charles_zhang/opt/anaconda3/envs/m148/lib/libopenblas.dylib' (no such file), '/System/Volumes/Preboot/Cryptexes/OS/Users/charles_zhang/opt/anaconda3/envs/m148/lib/libopenblas.dylib' (no such file), '/Users/charles_zhang/opt/anaconda3/envs/m148/lib/python3.9/site-packages/numpy/core/../../../../libopenblas.dylib' (no such file), '/Users/charles_zhang/opt/anaconda3/envs/m148/bin/../lib/libopenblas.dylib' (no such file), '/Users/charles_zhang/opt/anaconda3/envs/m148/bin/../lib/libopenblas.dylib' (no such file), '/usr/local/lib/libopenblas.dylib' (no such file), '/usr/lib/libopenblas.dylib' (no such file, not in dyld cache)\n"
     ]
    }
   ],
   "source": [
    "import numpy as np"
   ]
  },
  {
   "cell_type": "markdown",
   "id": "02b10888",
   "metadata": {},
   "source": [
    "### (2) How to create a basic array"
   ]
  },
  {
   "cell_type": "code",
   "execution_count": 2,
   "id": "a5cbb0ae",
   "metadata": {},
   "outputs": [
    {
     "name": "stdout",
     "output_type": "stream",
     "text": [
      "x is of shape (3,)\n"
     ]
    }
   ],
   "source": [
    "x = np.array([1, 2, 3]) # creating an array from a sequence of elements\n",
    "print(\"x is of shape\", x.shape)"
   ]
  },
  {
   "cell_type": "markdown",
   "id": "c6287b6e",
   "metadata": {},
   "source": [
    "You can visualize your array this way:\n",
    "\n",
    "![](https://numpy.org/doc/stable/_images/np_array.png)\n",
    "\n",
    "Python: \"Numerator layout\", everything is tranposed.\n",
    "\n",
    "When we do things by hand, we're going to follow the denominator layout."
   ]
  },
  {
   "cell_type": "code",
   "execution_count": 3,
   "id": "2a1e1bdd",
   "metadata": {},
   "outputs": [
    {
     "data": {
      "text/plain": [
       "array([0., 0.])"
      ]
     },
     "execution_count": 3,
     "metadata": {},
     "output_type": "execute_result"
    }
   ],
   "source": [
    "np.zeros(2) # create an array filled with 0’s"
   ]
  },
  {
   "cell_type": "code",
   "execution_count": 4,
   "id": "a6d2404d",
   "metadata": {},
   "outputs": [
    {
     "data": {
      "text/plain": [
       "array([1., 1.])"
      ]
     },
     "execution_count": 4,
     "metadata": {},
     "output_type": "execute_result"
    }
   ],
   "source": [
    "np.ones(2) # an array filled with 1’s"
   ]
  },
  {
   "cell_type": "code",
   "execution_count": 5,
   "id": "20b68a25",
   "metadata": {},
   "outputs": [
    {
     "data": {
      "text/plain": [
       "array([0, 1, 2, 3])"
      ]
     },
     "execution_count": 5,
     "metadata": {},
     "output_type": "execute_result"
    }
   ],
   "source": [
    "np.arange(4) # an array with a range of elements"
   ]
  },
  {
   "cell_type": "code",
   "execution_count": 6,
   "id": "1dbe441e",
   "metadata": {},
   "outputs": [
    {
     "data": {
      "text/plain": [
       "array([2, 4, 6, 8])"
      ]
     },
     "execution_count": 6,
     "metadata": {},
     "output_type": "execute_result"
    }
   ],
   "source": [
    "np.arange(2, 9, 2) # an array that contains a range of evenly spaced intervals (first, last, step)"
   ]
  },
  {
   "cell_type": "code",
   "execution_count": 7,
   "id": "411e51a2",
   "metadata": {},
   "outputs": [
    {
     "data": {
      "text/plain": [
       "array([ 0. ,  2.5,  5. ,  7.5, 10. ])"
      ]
     },
     "execution_count": 7,
     "metadata": {},
     "output_type": "execute_result"
    }
   ],
   "source": [
    "np.linspace(0, 10, num=5) # an array with values that are spaced linearly in a specified interval"
   ]
  },
  {
   "cell_type": "code",
   "execution_count": 8,
   "id": "00d5bbd4",
   "metadata": {},
   "outputs": [
    {
     "data": {
      "text/plain": [
       "array([[1, 1, 1],\n",
       "       [1, 1, 1]])"
      ]
     },
     "execution_count": 8,
     "metadata": {},
     "output_type": "execute_result"
    }
   ],
   "source": [
    "x = np.array([[1, 2, 3], [4, 5, 6]])\n",
    "np.ones_like(x) # array of ones with the same shape and type as x"
   ]
  },
  {
   "cell_type": "code",
   "execution_count": 9,
   "id": "3f5e72d6",
   "metadata": {},
   "outputs": [
    {
     "data": {
      "text/plain": [
       "array([[0, 0, 0],\n",
       "       [0, 0, 0]])"
      ]
     },
     "execution_count": 9,
     "metadata": {},
     "output_type": "execute_result"
    }
   ],
   "source": [
    "np.zeros_like(x) # return an array of zeros with shape and type of input x"
   ]
  },
  {
   "cell_type": "markdown",
   "id": "09f54039",
   "metadata": {},
   "source": [
    "### (3) How to create an array from existing data\n",
    "- `np.concatenate()`\n",
    "- `np.vstack()`\n",
    "- `np.hstack()`"
   ]
  },
  {
   "cell_type": "markdown",
   "id": "935585a2",
   "metadata": {},
   "source": [
    "**np.concatenate()**"
   ]
  },
  {
   "cell_type": "code",
   "execution_count": 10,
   "id": "543b4869",
   "metadata": {},
   "outputs": [
    {
     "data": {
      "text/plain": [
       "array([1, 2, 3, 4, 5, 6, 7, 8])"
      ]
     },
     "execution_count": 10,
     "metadata": {},
     "output_type": "execute_result"
    }
   ],
   "source": [
    "a = np.array([1, 2, 3, 4])\n",
    "b = np.array([5, 6, 7, 8])\n",
    "np.concatenate((a, b)) # You can concatenate them with np.concatenate()"
   ]
  },
  {
   "cell_type": "code",
   "execution_count": 11,
   "id": "09ca4cc5",
   "metadata": {},
   "outputs": [
    {
     "name": "stdout",
     "output_type": "stream",
     "text": [
      "x is of shape (2, 2)\n",
      "y is of shape (1, 2)\n"
     ]
    }
   ],
   "source": [
    "x = np.array([[1, 2], [3, 4]])\n",
    "y = np.array([[5, 6]]) #\n",
    "print(\"x is of shape\", x.shape)\n",
    "print(\"y is of shape\", y.shape)"
   ]
  },
  {
   "cell_type": "code",
   "execution_count": 12,
   "id": "d7952925",
   "metadata": {},
   "outputs": [
    {
     "name": "stdout",
     "output_type": "stream",
     "text": [
      "z is of shape (3, 2)\n"
     ]
    }
   ],
   "source": [
    "z = np.concatenate((x, y), axis=0)\n",
    "print(\"z is of shape\", z.shape)"
   ]
  },
  {
   "cell_type": "markdown",
   "id": "a72357d0",
   "metadata": {},
   "source": [
    "**np.vstack()**"
   ]
  },
  {
   "cell_type": "code",
   "execution_count": 13,
   "id": "f78ae989",
   "metadata": {},
   "outputs": [],
   "source": [
    "a1 = np.array([[1, 1],\n",
    "               [2, 2]])\n",
    "\n",
    "a2 = np.array([[3, 3],\n",
    "               [4, 4]])"
   ]
  },
  {
   "cell_type": "code",
   "execution_count": 14,
   "id": "46f6393d",
   "metadata": {},
   "outputs": [
    {
     "data": {
      "text/plain": [
       "array([[1, 1],\n",
       "       [2, 2],\n",
       "       [3, 3],\n",
       "       [4, 4]])"
      ]
     },
     "execution_count": 14,
     "metadata": {},
     "output_type": "execute_result"
    }
   ],
   "source": [
    "np.vstack((a1, a2))"
   ]
  },
  {
   "cell_type": "markdown",
   "id": "611254c2",
   "metadata": {},
   "source": [
    "**np.hstack()**"
   ]
  },
  {
   "cell_type": "code",
   "execution_count": 15,
   "id": "735b0faf",
   "metadata": {},
   "outputs": [
    {
     "data": {
      "text/plain": [
       "array([[1, 1, 3, 3],\n",
       "       [2, 2, 4, 4]])"
      ]
     },
     "execution_count": 15,
     "metadata": {},
     "output_type": "execute_result"
    }
   ],
   "source": [
    "np.hstack((a1, a2))"
   ]
  },
  {
   "cell_type": "markdown",
   "id": "05d52fcc",
   "metadata": {},
   "source": [
    "### (4) How to index an array"
   ]
  },
  {
   "cell_type": "markdown",
   "id": "e9dfee27",
   "metadata": {},
   "source": [
    "We can access the elements in the array using **square brackets**. \n",
    "\n",
    "When you’re accessing elements, remember that **indexing in NumPy starts at 0**.\n",
    "\n",
    "**Access 1-D array**"
   ]
  },
  {
   "cell_type": "code",
   "execution_count": 16,
   "id": "addf3e6c",
   "metadata": {},
   "outputs": [
    {
     "name": "stdout",
     "output_type": "stream",
     "text": [
      "[0 1 2 3 4 5 6 7 8 9]\n",
      "0\n",
      "2\n",
      "8\n",
      "[2 3 4]\n",
      "[8 9]\n",
      "[8 9]\n"
     ]
    }
   ],
   "source": [
    "x = np.arange(10)\n",
    "print(x)\n",
    "print(x[0])     # index the first (0+1) element\n",
    "print(x[2])     # index the third (2+1) element\n",
    "print(x[-2])    # index the second to last element\n",
    "\n",
    "# colon indexing\n",
    "print(x[2:5])   # 2 is the starting index, 5 is the stopping index, selects the 5-2 elements\n",
    "print(x[-2:10]) # -2 (10-2) is the starting index, 10 is the stopping index\n",
    "print(x[-2::])  # -2 (10-2) is the starting index, : means to select all subsequent elements"
   ]
  },
  {
   "cell_type": "markdown",
   "id": "e51079d4",
   "metadata": {},
   "source": [
    "**Access 2-D array**"
   ]
  },
  {
   "cell_type": "code",
   "execution_count": 17,
   "id": "25a65de5",
   "metadata": {},
   "outputs": [
    {
     "name": "stdout",
     "output_type": "stream",
     "text": [
      "5\n",
      "[1 2]\n",
      "[0 1 2]\n",
      "[[0 1 2]\n",
      " [3 4 5]]\n"
     ]
    }
   ],
   "source": [
    "x = np.array([[ 0,  1,  2],\n",
    "              [ 3,  4,  5],\n",
    "              [ 6,  7,  8],\n",
    "              [ 9, 10, 11]])\n",
    "\n",
    "print(x[1,2])   # element indexed by (1,2)\n",
    "print(x[0,1:])  # 1-D array slice indexed by the last two elements in the first row\n",
    "print(x[0,:])   # 1-D array slice indexed by the first row\n",
    "print(x[:2,:])  # 2-D array slice indexed by the first two rows"
   ]
  },
  {
   "cell_type": "markdown",
   "id": "709ce16b",
   "metadata": {},
   "source": [
    "## 1.2 Random Numbers in NumPy\n",
    "\n",
    "Tutorial: https://www.w3schools.com/python/numpy/numpy_random.asp\n",
    "\n",
    "NumPy offers the `random` module to work with random numbers."
   ]
  },
  {
   "cell_type": "markdown",
   "id": "8aeeb4f7",
   "metadata": {},
   "source": [
    "### (1) Generate Random Number\n",
    "**Example**: Generate a random integer from 0 to 100:"
   ]
  },
  {
   "cell_type": "code",
   "execution_count": 18,
   "id": "41e907de",
   "metadata": {},
   "outputs": [
    {
     "name": "stdout",
     "output_type": "stream",
     "text": [
      "97\n"
     ]
    }
   ],
   "source": [
    "x = np.random.randint(100)\n",
    "print(x)"
   ]
  },
  {
   "cell_type": "markdown",
   "id": "4e25c450",
   "metadata": {},
   "source": [
    "### (2) Generate Random Float\n",
    "\n",
    "The random module's `rand()` method returns a random float between 0 and 1.\n",
    "\n",
    "**Example**: Generate a random float from 0 to 1:"
   ]
  },
  {
   "cell_type": "code",
   "execution_count": 19,
   "id": "82c2a548",
   "metadata": {},
   "outputs": [
    {
     "name": "stdout",
     "output_type": "stream",
     "text": [
      "0.2279303632912617\n"
     ]
    }
   ],
   "source": [
    "x = np.random.rand()\n",
    "print(x)"
   ]
  },
  {
   "cell_type": "markdown",
   "id": "027687ac",
   "metadata": {},
   "source": [
    "### (3) Generate Random Array\n",
    "\n",
    "**Example**: Generate a 1-D array containing 5 random integers from 0 to 100:"
   ]
  },
  {
   "cell_type": "code",
   "execution_count": 20,
   "id": "e5239c23",
   "metadata": {},
   "outputs": [
    {
     "name": "stdout",
     "output_type": "stream",
     "text": [
      "[21 89 40 33  4]\n"
     ]
    }
   ],
   "source": [
    "x = np.random.randint(100, size=(5))\n",
    "print(x)"
   ]
  },
  {
   "cell_type": "markdown",
   "id": "3334c19f",
   "metadata": {},
   "source": [
    "**Example**: Generate a 2-D array with 3 rows, each row containing 5 random integers from 0 to 100:"
   ]
  },
  {
   "cell_type": "code",
   "execution_count": 21,
   "id": "5ae7e372",
   "metadata": {},
   "outputs": [
    {
     "name": "stdout",
     "output_type": "stream",
     "text": [
      "[[60 84 16 33 17]\n",
      " [14 22  0 47 56]\n",
      " [29 79 35 77 12]]\n"
     ]
    }
   ],
   "source": [
    "x = np.random.randint(100, size=(3, 5))\n",
    "print(x)"
   ]
  },
  {
   "cell_type": "markdown",
   "id": "2fda0463",
   "metadata": {},
   "source": [
    "### (4) Uniform Distribution\n",
    "\n",
    "Used to describe probability where every event has equal chances of occuring.\n",
    "\n",
    "It has three parameters:\n",
    "\n",
    "- `a` - lower bound - default 0 .0.\n",
    "\n",
    "- `b` - upper bound - default 1.0.\n",
    "\n",
    "- `size` - The shape of the returned array.\n",
    "\n",
    "**Example**: Create a 2x3 uniform distribution sample:\n"
   ]
  },
  {
   "cell_type": "code",
   "execution_count": 22,
   "id": "88a441a1",
   "metadata": {},
   "outputs": [
    {
     "name": "stdout",
     "output_type": "stream",
     "text": [
      "[[0.58234004 0.43035656 0.27849155]\n",
      " [0.80195873 0.16093246 0.10066566]]\n"
     ]
    }
   ],
   "source": [
    "x = np.random.uniform(size=(2, 3))\n",
    "print(x)"
   ]
  },
  {
   "cell_type": "markdown",
   "id": "66d76598",
   "metadata": {},
   "source": [
    "### Aside: Visualize the Random Distributions with Seaborn"
   ]
  },
  {
   "cell_type": "markdown",
   "id": "b960be42",
   "metadata": {},
   "source": [
    "Seaborn is a library that uses Matplotlib underneath to plot graphs. \n",
    "\n",
    "Here, it will be used to visualize random distributions.\n",
    "\n",
    "See https://www.w3schools.com/python/numpy/numpy_random_seaborn.asp for details."
   ]
  },
  {
   "cell_type": "code",
   "execution_count": 23,
   "id": "bb43151e",
   "metadata": {},
   "outputs": [],
   "source": [
    "import warnings\n",
    "warnings.filterwarnings(\"ignore\")"
   ]
  },
  {
   "cell_type": "markdown",
   "id": "1dcbd5ca",
   "metadata": {},
   "source": [
    "**Example**: Visualization of Uniform Distribution"
   ]
  },
  {
   "cell_type": "code",
   "execution_count": 24,
   "id": "c68e7faa",
   "metadata": {},
   "outputs": [
    {
     "name": "stdout",
     "output_type": "stream",
     "text": [
      "Collecting seaborn\n",
      "  Downloading seaborn-0.12.2-py3-none-any.whl (293 kB)\n",
      "\u001b[K     |████████████████████████████████| 293 kB 2.9 MB/s eta 0:00:01\n",
      "\u001b[?25hRequirement already satisfied: numpy!=1.24.0,>=1.17 in /Users/charles_zhang/opt/anaconda3/envs/m148/lib/python3.9/site-packages (from seaborn) (1.21.5)\n",
      "Requirement already satisfied: matplotlib!=3.6.1,>=3.1 in /Users/charles_zhang/opt/anaconda3/envs/m148/lib/python3.9/site-packages (from seaborn) (3.5.1)\n",
      "Requirement already satisfied: pandas>=0.25 in /Users/charles_zhang/opt/anaconda3/envs/m148/lib/python3.9/site-packages (from seaborn) (1.4.1)\n",
      "Requirement already satisfied: python-dateutil>=2.7 in /Users/charles_zhang/opt/anaconda3/envs/m148/lib/python3.9/site-packages (from matplotlib!=3.6.1,>=3.1->seaborn) (2.8.2)\n",
      "Requirement already satisfied: packaging>=20.0 in /Users/charles_zhang/opt/anaconda3/envs/m148/lib/python3.9/site-packages (from matplotlib!=3.6.1,>=3.1->seaborn) (21.3)\n",
      "Requirement already satisfied: cycler>=0.10 in /Users/charles_zhang/opt/anaconda3/envs/m148/lib/python3.9/site-packages (from matplotlib!=3.6.1,>=3.1->seaborn) (0.11.0)\n",
      "Requirement already satisfied: pillow>=6.2.0 in /Users/charles_zhang/opt/anaconda3/envs/m148/lib/python3.9/site-packages (from matplotlib!=3.6.1,>=3.1->seaborn) (9.0.1)\n",
      "Requirement already satisfied: kiwisolver>=1.0.1 in /Users/charles_zhang/opt/anaconda3/envs/m148/lib/python3.9/site-packages (from matplotlib!=3.6.1,>=3.1->seaborn) (1.3.2)\n",
      "Requirement already satisfied: pyparsing>=2.2.1 in /Users/charles_zhang/opt/anaconda3/envs/m148/lib/python3.9/site-packages (from matplotlib!=3.6.1,>=3.1->seaborn) (3.0.4)\n",
      "Requirement already satisfied: fonttools>=4.22.0 in /Users/charles_zhang/opt/anaconda3/envs/m148/lib/python3.9/site-packages (from matplotlib!=3.6.1,>=3.1->seaborn) (4.25.0)\n",
      "Requirement already satisfied: pytz>=2020.1 in /Users/charles_zhang/opt/anaconda3/envs/m148/lib/python3.9/site-packages (from pandas>=0.25->seaborn) (2021.3)\n",
      "Requirement already satisfied: six>=1.5 in /Users/charles_zhang/opt/anaconda3/envs/m148/lib/python3.9/site-packages (from python-dateutil>=2.7->matplotlib!=3.6.1,>=3.1->seaborn) (1.16.0)\n",
      "Installing collected packages: seaborn\n",
      "Successfully installed seaborn-0.12.2\n"
     ]
    },
    {
     "data": {
      "image/png": "[encoded data removed]",
      "text/plain": [
       "<Figure size 432x288 with 1 Axes>"
      ]
     },
     "metadata": {
      "needs_background": "light"
     },
     "output_type": "display_data"
    }
   ],
   "source": [
    "! pip install seaborn # install seaborn by uncommenting this line \n",
    "\n",
    "import matplotlib.pyplot as plt # import matplotlib\n",
    "import seaborn as sns # import seaborn\n",
    "\n",
    "sns.distplot(np.random.uniform(size=1000), hist=False) # flotting a distplot without the histogram\n",
    "plt.show()"
   ]
  },
  {
   "cell_type": "markdown",
   "id": "cea200e3",
   "metadata": {},
   "source": [
    "### (5) Normal (Gaussian) Distribution\n",
    "\n",
    "Use the `random.normal()` method to get a Normal Data Distribution.\n",
    "\n",
    "It has three parameters:\n",
    "\n",
    "- `loc` - (Mean) where the peak of the bell exists.\n",
    "\n",
    "- `scale` - (Standard Deviation) how flat the graph distribution should be.\n",
    "\n",
    "- `size` - The shape of the returned array."
   ]
  },
  {
   "cell_type": "markdown",
   "id": "1e9c869c",
   "metadata": {},
   "source": [
    "**Example**: Generate a random normal distribution of size 2x3:"
   ]
  },
  {
   "cell_type": "code",
   "execution_count": 25,
   "id": "eefd28aa",
   "metadata": {},
   "outputs": [
    {
     "name": "stdout",
     "output_type": "stream",
     "text": [
      "[[-1.34034977 -0.61760116  0.93052146]\n",
      " [-2.36764617  0.32357754 -0.02252401]]\n"
     ]
    }
   ],
   "source": [
    "x = np.random.normal(size=(2, 3))\n",
    "print(x)"
   ]
  },
  {
   "cell_type": "markdown",
   "id": "f57a3d73",
   "metadata": {},
   "source": [
    "**Example**: Generate a random normal distribution of size 2x3 with mean at 1 and standard deviation of 2:"
   ]
  },
  {
   "cell_type": "code",
   "execution_count": 26,
   "id": "9cc54e33",
   "metadata": {},
   "outputs": [
    {
     "name": "stdout",
     "output_type": "stream",
     "text": [
      "[[ 0.60201514  3.17229936  0.85907966]\n",
      " [ 0.30291589  0.07716672 -0.22545319]]\n"
     ]
    }
   ],
   "source": [
    "x = np.random.normal(loc=1, scale=2, size=(2, 3))\n",
    "print(x)"
   ]
  },
  {
   "cell_type": "markdown",
   "id": "3690eaa1",
   "metadata": {},
   "source": [
    "**Example**: Visualization of Normal Distribution"
   ]
  },
  {
   "cell_type": "code",
   "execution_count": 27,
   "id": "0b1e8397",
   "metadata": {},
   "outputs": [
    {
     "data": {
      "image/png": "[encoded data removed]",
      "text/plain": [
       "<Figure size 432x288 with 1 Axes>"
      ]
     },
     "metadata": {
      "needs_background": "light"
     },
     "output_type": "display_data"
    }
   ],
   "source": [
    "import matplotlib.pyplot as plt\n",
    "import seaborn as sns\n",
    "\n",
    "sns.distplot(np.random.normal(size=1000), hist=False)\n",
    "\n",
    "plt.show()"
   ]
  },
  {
   "cell_type": "markdown",
   "id": "ed3ece13",
   "metadata": {},
   "source": [
    "### (6) Fix the random seed"
   ]
  },
  {
   "cell_type": "markdown",
   "id": "4246feef",
   "metadata": {},
   "source": [
    "`random` module implements **pseudo-random** number generators for various distributions. \n",
    "\n",
    "We can use the `seed()` method to customize the start number of the random number generator.\n",
    "\n",
    "***Note: If you use the same seed value twice you will get the same random number twice.***"
   ]
  },
  {
   "cell_type": "markdown",
   "id": "d7fba259",
   "metadata": {},
   "source": [
    "**Example**: Demonstrate that if you use the same seed value twice, you will get the same random number twice:"
   ]
  },
  {
   "cell_type": "code",
   "execution_count": 28,
   "id": "f2c4a0ee",
   "metadata": {},
   "outputs": [
    {
     "name": "stdout",
     "output_type": "stream",
     "text": [
      "0.5288656953789816\n",
      "0.6337904637042323\n"
     ]
    }
   ],
   "source": [
    "print(np.random.rand())\n",
    "print(np.random.rand())"
   ]
  },
  {
   "cell_type": "code",
   "execution_count": 29,
   "id": "9dbbcc3f",
   "metadata": {},
   "outputs": [
    {
     "name": "stdout",
     "output_type": "stream",
     "text": [
      "0.771320643266746\n",
      "0.771320643266746\n"
     ]
    }
   ],
   "source": [
    "np.random.seed(10)\n",
    "print(np.random.rand())\n",
    "\n",
    "np.random.seed(10)\n",
    "print(np.random.rand())"
   ]
  },
  {
   "cell_type": "markdown",
   "id": "115800d8",
   "metadata": {},
   "source": [
    "## 1.3 Python basics\n",
    "\n",
    "Python tutorial: https://www.w3schools.com/python/default.asp\n",
    "\n",
    "### (1) List\n",
    "\n",
    "Python Lists: https://www.w3schools.com/python/python_lists.asp\n",
    "\n",
    "\n",
    "Lists are used to store multiple items in a single variable.\n",
    "\n",
    "Lists are created using **square brackets**:"
   ]
  },
  {
   "cell_type": "code",
   "execution_count": 30,
   "id": "5e0ded54",
   "metadata": {},
   "outputs": [
    {
     "name": "stdout",
     "output_type": "stream",
     "text": [
      "[1, 5, 7, 9, 3]\n"
     ]
    }
   ],
   "source": [
    "x = [1, 5, 7, 9, 3] # Create a List\n",
    "print(x)"
   ]
  },
  {
   "cell_type": "markdown",
   "id": "32df23f3",
   "metadata": {},
   "source": [
    "**List Items**\n",
    "\n",
    "List items are indexed, the first item has index `[0]`, the second item has index `[1]` etc."
   ]
  },
  {
   "cell_type": "code",
   "execution_count": 31,
   "id": "2992349d",
   "metadata": {},
   "outputs": [
    {
     "name": "stdout",
     "output_type": "stream",
     "text": [
      "7\n"
     ]
    }
   ],
   "source": [
    "print(x[2])"
   ]
  },
  {
   "cell_type": "markdown",
   "id": "acc064f3",
   "metadata": {},
   "source": [
    "**List Length**\n",
    "\n",
    "To determine how many items a list has, use the `len()` function."
   ]
  },
  {
   "cell_type": "code",
   "execution_count": 32,
   "id": "9ae926ba",
   "metadata": {},
   "outputs": [
    {
     "name": "stdout",
     "output_type": "stream",
     "text": [
      "5\n"
     ]
    }
   ],
   "source": [
    "print(len(x))"
   ]
  },
  {
   "cell_type": "markdown",
   "id": "a7e3209d",
   "metadata": {},
   "source": [
    "A list can contain different data types:"
   ]
  },
  {
   "cell_type": "code",
   "execution_count": 33,
   "id": "3d743787",
   "metadata": {},
   "outputs": [],
   "source": [
    "list1 = [\"apple\", \"banana\", \"cherry\"]\n",
    "list2 = [1, 5, 7, 9, 3]\n",
    "list3 = [True, False, False]\n",
    "list4 = [\"apple\", 12, 1.2, True]"
   ]
  },
  {
   "cell_type": "markdown",
   "id": "1ef7b977",
   "metadata": {},
   "source": [
    "**Append Items**\n",
    "\n",
    "To add an item to the end of the list, use the `append()` method.\n",
    "\n",
    "**Example**: Using the `append()` method to append an item:"
   ]
  },
  {
   "cell_type": "code",
   "execution_count": 34,
   "id": "5de11354",
   "metadata": {},
   "outputs": [
    {
     "name": "stdout",
     "output_type": "stream",
     "text": [
      "[1, 4, 9, 16]\n"
     ]
    }
   ],
   "source": [
    "x = [1, 4, 9]\n",
    "x.append(16)\n",
    "print(x)"
   ]
  },
  {
   "cell_type": "markdown",
   "id": "2f19e4ab",
   "metadata": {},
   "source": [
    "**Loop Through a List**\n",
    "\n",
    "You can loop through the list items by using a for loop.\n",
    "\n",
    "**Example**: Print all items in the list, one by one:"
   ]
  },
  {
   "cell_type": "code",
   "execution_count": 35,
   "id": "f385fb89",
   "metadata": {},
   "outputs": [
    {
     "name": "stdout",
     "output_type": "stream",
     "text": [
      "apple\n",
      "banana\n",
      "cherry\n"
     ]
    }
   ],
   "source": [
    "thislist = [\"apple\", \"banana\", \"cherry\"]\n",
    "for x in thislist:\n",
    "    print(x)"
   ]
  },
  {
   "cell_type": "markdown",
   "id": "96ad950f",
   "metadata": {},
   "source": [
    "**List Comprehension**\n",
    "\n",
    "List comprehension offers a shorter syntax when you want to create a new list based on the values of an existing list.\n",
    "\n"
   ]
  },
  {
   "cell_type": "markdown",
   "id": "260dfefc",
   "metadata": {},
   "source": [
    "**Example**: Accept only numbers lower than 5:\n",
    "\n",
    "Without list comprehension you will have to write a for statement with a conditional test inside:"
   ]
  },
  {
   "cell_type": "code",
   "execution_count": 36,
   "id": "47fc7c1c",
   "metadata": {},
   "outputs": [
    {
     "name": "stdout",
     "output_type": "stream",
     "text": [
      "[0, 1, 2, 3, 4]\n"
     ]
    }
   ],
   "source": [
    "results = []\n",
    "\n",
    "for x in range(10):\n",
    "    if x < 5:\n",
    "        results.append(x)\n",
    "        \n",
    "print(results)"
   ]
  },
  {
   "cell_type": "markdown",
   "id": "98a5843c",
   "metadata": {},
   "source": [
    "With list comprehension you can do all that with only one line of code:"
   ]
  },
  {
   "cell_type": "code",
   "execution_count": 37,
   "id": "3172bfa2",
   "metadata": {},
   "outputs": [
    {
     "name": "stdout",
     "output_type": "stream",
     "text": [
      "[0, 1, 2, 3, 4]\n"
     ]
    }
   ],
   "source": [
    "results = [x for x in range(10) if x < 5]\n",
    "print(results)"
   ]
  },
  {
   "cell_type": "code",
   "execution_count": 38,
   "id": "5fe306b3",
   "metadata": {},
   "outputs": [
    {
     "name": "stdout",
     "output_type": "stream",
     "text": [
      "apple\n",
      "banana\n",
      "cherry\n"
     ]
    }
   ],
   "source": [
    "_ = [print(x) for x in [\"apple\", \"banana\", \"cherry\"]]"
   ]
  },
  {
   "cell_type": "markdown",
   "id": "9a2b63b1",
   "metadata": {},
   "source": [
    "### (2) Math operations\n",
    "\n",
    "Python Math: https://www.w3schools.com/python/python_math.asp\n",
    "\n",
    "\n",
    "The `min()` and `max()` functions can be used to find the lowest or highest value in an iterable:"
   ]
  },
  {
   "cell_type": "code",
   "execution_count": 39,
   "id": "9aaaafae",
   "metadata": {},
   "outputs": [
    {
     "name": "stdout",
     "output_type": "stream",
     "text": [
      "5\n",
      "25\n"
     ]
    }
   ],
   "source": [
    "x = min([5, 10, 25])\n",
    "y = max([5, 10, 25])\n",
    "\n",
    "print(x)\n",
    "print(y)"
   ]
  },
  {
   "cell_type": "markdown",
   "id": "39d0f66a",
   "metadata": {},
   "source": [
    "We can sum up a list by `sum()`:"
   ]
  },
  {
   "cell_type": "code",
   "execution_count": 40,
   "id": "8fecacf7",
   "metadata": {},
   "outputs": [
    {
     "name": "stdout",
     "output_type": "stream",
     "text": [
      "40\n"
     ]
    }
   ],
   "source": [
    "s = sum([5, 10, 25])\n",
    "print(s)"
   ]
  },
  {
   "cell_type": "markdown",
   "id": "12d69028",
   "metadata": {},
   "source": [
    "### (3) Print statement\n",
    "\n",
    "- Python String Formatting: https://www.w3schools.com/python/python_string_formatting.asp\n",
    "\n",
    "To make sure a string will display as expected, we can format the result with the `format()` method.\n",
    "\n",
    "The `format()` method allows you to format selected parts of a string by adding placeholders (curly brackets `{}`) in the text.\n",
    "\n",
    "**Example**: Add a placeholder where you want to display the price:"
   ]
  },
  {
   "cell_type": "code",
   "execution_count": 41,
   "id": "89120196",
   "metadata": {},
   "outputs": [
    {
     "name": "stdout",
     "output_type": "stream",
     "text": [
      "The price is 49 dollars\n"
     ]
    }
   ],
   "source": [
    "price = 49\n",
    "txt = \"The price is {} dollars\"\n",
    "print(txt.format(price))"
   ]
  },
  {
   "cell_type": "markdown",
   "id": "b6ed412c",
   "metadata": {},
   "source": [
    "**Example**: Format the price to be displayed as a number with two decimals:"
   ]
  },
  {
   "cell_type": "code",
   "execution_count": 42,
   "id": "5f02044a",
   "metadata": {},
   "outputs": [
    {
     "name": "stdout",
     "output_type": "stream",
     "text": [
      "The price is 49.00 dollars\n"
     ]
    }
   ],
   "source": [
    "print(\"The price is {:.2f} dollars\".format(price)) # colon"
   ]
  },
  {
   "cell_type": "markdown",
   "id": "32dbb743",
   "metadata": {},
   "source": [
    "## 1.4 Matrix calculation in Python"
   ]
  },
  {
   "cell_type": "markdown",
   "id": "8d65502c",
   "metadata": {},
   "source": [
    "### (1) Transpose"
   ]
  },
  {
   "cell_type": "code",
   "execution_count": 43,
   "id": "5ce46e4a",
   "metadata": {},
   "outputs": [
    {
     "name": "stdout",
     "output_type": "stream",
     "text": [
      "[[1 2 3]\n",
      " [4 5 6]]\n",
      "A is of shape (2, 3)\n"
     ]
    }
   ],
   "source": [
    "A = np.array(\n",
    "    [[1,2,3],\n",
    "     [4,5,6]]\n",
    ")\n",
    "print(A)\n",
    "print(\"A is of shape\", A.shape)"
   ]
  },
  {
   "cell_type": "code",
   "execution_count": 44,
   "id": "578cb698",
   "metadata": {},
   "outputs": [
    {
     "name": "stdout",
     "output_type": "stream",
     "text": [
      "[[1 4]\n",
      " [2 5]\n",
      " [3 6]]\n",
      "A_transpose is of shape (3, 2)\n"
     ]
    }
   ],
   "source": [
    "A_transpose = A.T\n",
    "print(A_transpose)\n",
    "print(\"A_transpose is of shape\", A_transpose.shape)"
   ]
  },
  {
   "cell_type": "markdown",
   "id": "078f72bc",
   "metadata": {},
   "source": [
    "### (2) Dot product"
   ]
  },
  {
   "cell_type": "code",
   "execution_count": 45,
   "id": "cbfb1632",
   "metadata": {},
   "outputs": [
    {
     "name": "stdout",
     "output_type": "stream",
     "text": [
      "321\n",
      "321\n"
     ]
    }
   ],
   "source": [
    "x = np.array([1,10,100])\n",
    "y = np.array([1,2,3])\n",
    "print(x.dot(y))\n",
    "print(np.sum(x * y))"
   ]
  },
  {
   "cell_type": "markdown",
   "id": "33efa48a",
   "metadata": {},
   "source": [
    "### (3) Matrix-vector multiplication"
   ]
  },
  {
   "cell_type": "code",
   "execution_count": 46,
   "id": "879266c6",
   "metadata": {},
   "outputs": [],
   "source": [
    "A = np.array(\n",
    "    [[1,2,3],\n",
    "     [4,5,6]]\n",
    ")\n",
    "x = np.array([1,10,100])\n",
    "y = np.array([-1,-10])"
   ]
  },
  {
   "cell_type": "markdown",
   "id": "d354acae",
   "metadata": {},
   "source": [
    "**Example**: $A \\mathbf{x}$"
   ]
  },
  {
   "cell_type": "code",
   "execution_count": 47,
   "id": "34bbb680",
   "metadata": {},
   "outputs": [
    {
     "name": "stdout",
     "output_type": "stream",
     "text": [
      "[321 654]\n",
      "[321 654]\n"
     ]
    }
   ],
   "source": [
    "print(A @ x)\n",
    "print(A.dot(x))"
   ]
  },
  {
   "cell_type": "markdown",
   "id": "aa76e758",
   "metadata": {},
   "source": [
    "**Example**: $\\mathbf{y}^T A$"
   ]
  },
  {
   "cell_type": "code",
   "execution_count": 48,
   "id": "bfd6351f",
   "metadata": {},
   "outputs": [
    {
     "name": "stdout",
     "output_type": "stream",
     "text": [
      "[-41 -52 -63]\n",
      "[-41 -52 -63]\n"
     ]
    }
   ],
   "source": [
    "print(y @ A)\n",
    "print(y.dot(A))"
   ]
  },
  {
   "cell_type": "markdown",
   "id": "d8f6e018",
   "metadata": {},
   "source": [
    "### (4) Matrix-matrix multiplication"
   ]
  },
  {
   "cell_type": "markdown",
   "id": "26c80a88",
   "metadata": {},
   "source": [
    "**Example**: $AB$"
   ]
  },
  {
   "cell_type": "code",
   "execution_count": 49,
   "id": "2f20bb9a",
   "metadata": {},
   "outputs": [
    {
     "name": "stdout",
     "output_type": "stream",
     "text": [
      "[[-14 -32]\n",
      " [-32 -77]]\n"
     ]
    }
   ],
   "source": [
    "A = np.array(\n",
    "    [[1,2,3],\n",
    "     [4,5,6]])\n",
    "\n",
    "B = -np.array(\n",
    "    [[1,2,3],\n",
    "     [4,5,6]])\n",
    "B = B.T\n",
    "\n",
    "C = A @ B\n",
    "print(C)"
   ]
  },
  {
   "cell_type": "markdown",
   "id": "88490c93",
   "metadata": {},
   "source": [
    "### (5) Inverse of a matrix"
   ]
  },
  {
   "cell_type": "markdown",
   "id": "63fa34c7",
   "metadata": {},
   "source": [
    "**Example**: $A A^{-1} = I$"
   ]
  },
  {
   "cell_type": "code",
   "execution_count": 50,
   "id": "fdaa7601",
   "metadata": {},
   "outputs": [
    {
     "name": "stdout",
     "output_type": "stream",
     "text": [
      "[[ 1.00000000e+00  0.00000000e+00]\n",
      " [-1.38777878e-17  1.00000000e+00]]\n"
     ]
    }
   ],
   "source": [
    "A = np.array(\n",
    "    [[2, 1],\n",
    "    [-1, 7]])\n",
    "\n",
    "A_rev = np.linalg.inv(A)\n",
    "print(A @ A_rev)"
   ]
  },
  {
   "cell_type": "markdown",
   "id": "57b16e76",
   "metadata": {},
   "source": [
    "## 1.5 matplotlib.pyplot\n",
    "\n",
    "Pyplot tutorial: https://matplotlib.org/stable/tutorials/introductory/pyplot.html\n",
    "\n",
    "`matplotlib.pyplot` is a collection of functions that make matplotlib work like MATLAB.\n",
    "\n",
    "Each pyplot function makes some change to a figure: e.g., creates a figure, creates a plotting area in a figure, plots some lines in a plotting area, decorates the plot with labels, etc.\n",
    "\n",
    "**Example**: Generating visualizations with pyplot is very quick:"
   ]
  },
  {
   "cell_type": "code",
   "execution_count": 51,
   "id": "f715113f",
   "metadata": {},
   "outputs": [
    {
     "data": {
      "image/png": "[encoded data removed]",
      "text/plain": [
       "<Figure size 432x288 with 1 Axes>"
      ]
     },
     "metadata": {
      "needs_background": "light"
     },
     "output_type": "display_data"
    }
   ],
   "source": [
    "import matplotlib.pyplot as plt\n",
    "plt.plot([1, 2, 3, 4])\n",
    "plt.show()"
   ]
  },
  {
   "cell_type": "markdown",
   "id": "232d5c29",
   "metadata": {},
   "source": [
    "Here is a more complex example:"
   ]
  },
  {
   "cell_type": "code",
   "execution_count": 52,
   "id": "c93df736",
   "metadata": {},
   "outputs": [],
   "source": [
    "x = np.arange(100)\n",
    "y = [a*a for a in x]"
   ]
  },
  {
   "cell_type": "code",
   "execution_count": 53,
   "id": "d665185a",
   "metadata": {},
   "outputs": [
    {
     "data": {
      "image/png": "[encoded data removed]",
      "text/plain": [
       "<Figure size 432x288 with 1 Axes>"
      ]
     },
     "metadata": {
      "needs_background": "light"
     },
     "output_type": "display_data"
    }
   ],
   "source": [
    "f = plt.figure() # create a new figure\n",
    "ax = f.gca() # return the current axes\n",
    "\n",
    "# Plot y versus x as lines\n",
    "ax.plot(x, y, '.')\n",
    "\n",
    "# Set the labels for the x-axis and y-axis\n",
    "ax.set_xlabel('$x$')\n",
    "ax.set_ylabel('$y$')\n",
    "\n",
    "# Place a legend on the Axes\n",
    "labels = ['data'] # pass through the list of labels to legend()\n",
    "bbox_to_anchor=(1.3, 1) # specify the location (coordinate) of the legend labels\n",
    "lgd = ax.legend(labels, bbox_to_anchor=bbox_to_anchor) "
   ]
  },
  {
   "cell_type": "markdown",
   "id": "e08fa889",
   "metadata": {},
   "source": [
    "## 2. Background of HW1"
   ]
  },
  {
   "cell_type": "markdown",
   "id": "ef751361",
   "metadata": {},
   "source": [
    "### 2.1 Linear regression example\n",
    "\n",
    "If we want to do linear regression to fit the parameters of a simple model:\n",
    "\n",
    "$$\n",
    "\\begin{aligned}\n",
    "\\hat{y} &=a x+b \\\\\n",
    "&=\\theta^{T} \\hat{\\mathbf{x}}\n",
    "\\end{aligned}\n",
    "$$\n",
    "\n",
    "where $\\theta=(a, b)$ and $\\hat{\\mathbf{x}}=(x, 1)$. \n",
    "\n",
    "$\\theta$ represents the parameters of the model, and we want to use our training examples to find the best values of $\\theta$ (equivalently $a$ and $b$) according to the cost function:\n",
    "\n",
    "$$\n",
    "\\begin{aligned}\n",
    "\\mathcal{L}(\\theta) &=\\frac{1}{2} \\sum_{i=1}^{N}\\left(y^{(i)}-\\hat{y}^{(i)}\\right)^{2} \\\\\n",
    "&=\\frac{1}{2} \\sum_{i=1}^{N}\\left(y^{(i)}-\\theta^{T} \\hat{\\mathbf{x}}^{(i)}\\right)^{2}\n",
    "\\end{aligned}\n",
    "$$\n",
    "\n",
    "We wish to choose $\\theta$ so that this cost function, $\\mathcal{L}(\\theta)$ is smallest. Hence, we wish to minimize $\\mathcal{L}(\\theta)$ with respect to $\\theta$. Taking its derivative and set it equal to zero, we have\n",
    "\n",
    "$$\n",
    "\\begin{aligned}\n",
    "\\frac{\\partial \\mathcal{L}}{\\partial \\theta} &=\\sum_{i=1}^{N}\\left(y^{(i)}-\\theta^{T} \\hat{\\mathbf{x}}^{(i)}\\right) \\hat{\\mathbf{x}}^{(i)} \\\\\n",
    "& \\triangleq \\mathbf{0}\n",
    "\\end{aligned}\n",
    "$$\n",
    "where $\\mathbf{0}$ is a vector of zeros. This results in an undertermined systems of equations,\n",
    "$$\n",
    "Y=\\mathbf{X} \\theta\n",
    "$$\n",
    "\n",
    "for\n",
    "$$\n",
    "Y=\\left[\\begin{array}{c}\n",
    "y^{(1)} \\\\\n",
    "y^{(2)} \\\\\n",
    "\\vdots \\\\\n",
    "y^{(N)}\n",
    "\\end{array}\\right] \\quad \\mathbf{X}=\\left[\\begin{array}{c}\n",
    "\\left(\\hat{\\mathbf{x}}^{(1)}\\right)^{T} \\\\\n",
    "\\left(\\hat{\\mathbf{x}}^{(2)}\\right)^{T} \\\\\n",
    "\\vdots \\\\\n",
    "\\left(\\hat{\\mathbf{x}}^{(N)}\\right)^{T}\n",
    "\\end{array}\\right]\n",
    "$$\n",
    "The solution is known as **least-squares**, i.e.,\n",
    "$$\n",
    "\\begin{aligned}\n",
    "\\theta \n",
    "&=\\left(\\mathbf{X}^{T} \\mathbf{X}\\right)^{-1} \\mathbf{X}^{T} Y\n",
    "\\end{aligned}\n",
    "$$"
   ]
  },
  {
   "cell_type": "markdown",
   "id": "a0e99c36",
   "metadata": {},
   "source": [
    "### 2.2 Exercise: Sum squared error (SSE) for linear regression\n",
    "\n",
    "In Lecture 2 slides page 17, we write the cost function of linear regression as\n",
    "$$L(\\theta) = \\frac{1}{2} (Y - X \\theta)^T (Y - X \\theta) = \\frac{1}{2} (Y^T Y - 2 Y^T X \\theta + \\theta^T X^T X \\theta)$$"
   ]
  },
  {
   "cell_type": "code",
   "execution_count": 54,
   "id": "61749b4a",
   "metadata": {
    "scrolled": true
   },
   "outputs": [
    {
     "name": "stdout",
     "output_type": "stream",
     "text": [
      "0.00554725748484128\n",
      "0.005547257484977308\n"
     ]
    }
   ],
   "source": [
    "n = 100 # num of points\n",
    "X = np.hstack([np.ones((n, 1)), np.linspace(0, 1, n).reshape(n, 1)]) # shape: 100 x 2\n",
    "theta = np.array([2, 3])\n",
    "Y = X @ theta + np.random.randn(n) * 0.01 # y = 2 + 3*x + noise\n",
    "\n",
    "L_ver1 = 0.5 * (Y - X @ theta).dot(Y - X @ theta)\n",
    "L_ver2 = 0.5 * (Y.dot(Y) - 2 * Y @ X @ theta + theta @ X.T @ X @ theta)\n",
    "print(L_ver1)\n",
    "print(L_ver2)"
   ]
  },
  {
   "cell_type": "code",
   "execution_count": 55,
   "id": "89d9ab5e",
   "metadata": {},
   "outputs": [
    {
     "name": "stdout",
     "output_type": "stream",
     "text": [
      "[2 3]\n"
     ]
    }
   ],
   "source": [
    "print(theta)"
   ]
  },
  {
   "cell_type": "markdown",
   "id": "0b06e8fc",
   "metadata": {},
   "source": [
    "### 2.3 Training dataset, validation dataset, and testing dataset"
   ]
  },
  {
   "cell_type": "markdown",
   "id": "83ce53c8",
   "metadata": {},
   "source": [
    "The standard for training, evaluating, and choosing models is to use different datasets for each step.\n",
    "\n",
    "- Training data is data that is used to learn the **parameters** of your model.\n",
    "- Validation data is data that is used to optimize the **hyperparameters** of your model. This avoids the potential of overfitting to nuances in the testing dataset.\n",
    "- Testing data is data that is used to **score** your model."
   ]
  },
  {
   "cell_type": "markdown",
   "id": "595cb9a1",
   "metadata": {},
   "source": [
    "### 2.4 Underfitting and overfitting "
   ]
  },
  {
   "attachments": {
    "image.png": {
     "image/png": "[encoded data removed]"
    }
   },
   "cell_type": "markdown",
   "id": "955a7cb3",
   "metadata": {},
   "source": [
    "**Underfitting**\n",
    "\n",
    "![image.png](attachment:image.png)\n",
    "\n",
    "The model can not fit well on the training dataset, e.g., linear model.\n",
    "- Have both high training and high testing error\n",
    "- The fit generally will not improve with more training data because the model is not expressive enough.\n",
    "\n",
    "Solution: use a model with larger capacity (more parameters), e.g., higher degree polynomial models in the previous example."
   ]
  },
  {
   "attachments": {
    "image-3.png": {
     "image/png": "[encoded data removed]"
    }
   },
   "cell_type": "markdown",
   "id": "41ebf079",
   "metadata": {},
   "source": [
    "**Overfitting**\n",
    "\n",
    "![image-3.png](attachment:image-3.png)\n",
    "\n",
    "The more complex models may **not generalize as well** if the data come from a different dataset.\n",
    "\n",
    "A model which has very low training error but **high validation or testing error** is called overfit.\n",
    "\n",
    "Solution\n",
    "- larger datasets ameliorate overfitting\n",
    "- advanced techniques: regularization, normalization, dropout, etc."
   ]
  },
  {
   "cell_type": "code",
   "execution_count": null,
   "id": "d62797eb",
   "metadata": {},
   "outputs": [],
   "source": []
  }
 ],
 "metadata": {
  "kernelspec": {
   "display_name": "Python 3 (ipykernel)",
   "language": "python",
   "name": "python3"
  },
  "language_info": {
   "codemirror_mode": {
    "name": "ipython",
    "version": 3
   },
   "file_extension": ".py",
   "mimetype": "text/x-python",
   "name": "python",
   "nbconvert_exporter": "python",
   "pygments_lexer": "ipython3",
   "version": "3.9.16"
  }
 },
 "nbformat": 4,
 "nbformat_minor": 5
}
